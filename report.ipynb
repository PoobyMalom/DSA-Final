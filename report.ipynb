{
 "cells": [
  {
   "cell_type": "markdown",
   "metadata": {},
   "source": [
    "# Block Sort\n",
    "**Laurel Cox and Toby Mallon**"
   ]
  },
  {
   "cell_type": "code",
   "execution_count": null,
   "metadata": {},
   "outputs": [],
   "source": [
    "from helpers import insertionSort\n",
    "\n",
    "def block_sort(input_arr, block_size):\n",
    "    blocks = [] # nested lists to store blocks\n",
    "\n",
    "    # Break input_arr into blocks\n",
    "    temp_block = []\n",
    "    for num in input_arr:\n",
    "        if len(temp_block) == block_size:\n",
    "            temp_block = insertionSort(temp_block)\n",
    "            blocks.append(temp_block)\n",
    "            temp_block = []\n",
    "        temp_block.append(num)\n",
    "    temp_block.sort()\n",
    "    blocks.append(temp_block)\n",
    "\n",
    "    result = []\n",
    "\n",
    "    while blocks:\n",
    "        min_index = 0\n",
    "        for i in range(1, len(blocks)):\n",
    "            if blocks[i][0] < blocks[min_index][0]:\n",
    "                min_index = i\n",
    "\n",
    "        result.append(blocks[min_index].pop(0))\n",
    "\n",
    "        if len(blocks[min_index]) == 0:\n",
    "            blocks.pop(min_index)\n",
    "\n",
    "    return result"
   ]
  },
  {
   "cell_type": "code",
   "execution_count": null,
   "metadata": {},
   "outputs": [],
   "source": [
    "import random\n",
    "\n",
    "test_arr = list(range(1, 100000))\n",
    "random.shuffle(test_arr)\n",
    "r = block_sort(test_arr, 1000)\n",
    "print(r)"
   ]
  },
  {
   "cell_type": "markdown",
   "metadata": {},
   "source": [
    "# Practice Problems\n",
    "\n",
    "## 75. Sort Colors\n",
    "\n",
    "Given an array `nums` with `n` objects colored red, white, or blue, sort them in-place so that objects of the same color are adjacent, with the colors in the order red, white, and blue.\n",
    "\n",
    "We will use the integers `0`, `1`, and `2` to represent the color red, white, and blue, respectively.\n",
    "\n",
    "You must solve this problem without using the library's sort function.\n",
    "\n",
    "**Example 1:**\n",
    "\n",
    "Input: `nums = [2,0,2,1,1,0]`\n",
    "\n",
    "Output: `[0,0,1,1,2,2]`\n",
    "\n",
    "**Example 2:**\n",
    "\n",
    "Input: nums = `[2,0,1]`\n",
    "\n",
    "Output: `[0,1,2]`"
   ]
  },
  {
   "cell_type": "code",
   "execution_count": null,
   "metadata": {},
   "outputs": [],
   "source": [
    "def sortColors(self, nums: list[int]) -> None:\n",
    "    pass"
   ]
  }
 ],
 "metadata": {
  "kernelspec": {
   "display_name": "base",
   "language": "python",
   "name": "python3"
  },
  "language_info": {
   "name": "python",
   "version": "3.11.9"
  }
 },
 "nbformat": 4,
 "nbformat_minor": 2
}
