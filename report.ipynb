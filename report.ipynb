{
 "cells": [
  {
   "cell_type": "markdown",
   "metadata": {},
   "source": [
    "# Block Sort\n",
    "**Laurel Cox and Toby Mallon**"
   ]
  },
  {
   "cell_type": "code",
   "execution_count": null,
   "metadata": {},
   "outputs": [],
   "source": [
    "from helpers import insertionSort\n",
    "import heapq\n",
    "\n",
    "def block_sort(input_arr, block_size):\n",
    "    blocks = [] # nested lists to store blocks\n",
    "\n",
    "    # Break input_arr into blocks\n",
    "    temp_block = []\n",
    "    for num in input_arr:\n",
    "        # If temp block is block size sort it and add it to main blocks list\n",
    "        if len(temp_block) == block_size:\n",
    "            temp_block = insertionSort(temp_block)\n",
    "            blocks.append(temp_block)\n",
    "            # Reset temp block\n",
    "            temp_block = []\n",
    "        # Add num to temp block\n",
    "        temp_block.append(num)\n",
    "    \n",
    "    # Sort the leftovers\n",
    "    if temp_block:\n",
    "        blocks.append(insertionSort(temp_block))\n",
    "\n",
    "    # Use min-heap to merge k sorted lists\n",
    "    heap = []\n",
    "    for i, block in enumerate(blocks):\n",
    "        if block:\n",
    "            # Push the block onto the heap\n",
    "            heapq.heappush(heap, (block[0], i, 0))\n",
    "\n",
    "    result = []\n",
    "    # while heap not empty\n",
    "    while heap:\n",
    "        # Pop block off the heap\n",
    "        val, i, index = heapq.heappop(heap)\n",
    "        result.append(val)\n",
    "        if index + 1 < len(blocks[i]):\n",
    "            next_val = blocks[i][index + 1]\n",
    "            heapq.heappush(heap, (next_val, i, index + 1))\n",
    "\n",
    "    return result"
   ]
  },
  {
   "cell_type": "code",
   "execution_count": 12,
   "metadata": {},
   "outputs": [],
   "source": [
    "import random\n",
    "\n",
    "test_arr = list(range(1, 100000))\n",
    "random.shuffle(test_arr)\n",
    "r = block_sort(test_arr, 64)"
   ]
  },
  {
   "cell_type": "markdown",
   "metadata": {},
   "source": [
    "# Practice Problems\n",
    "\n",
    "## 75. Sort Colors\n",
    "\n",
    "Given an array `nums` with `n` objects colored red, white, or blue, sort them in-place so that objects of the same color are adjacent, with the colors in the order red, white, and blue.\n",
    "\n",
    "We will use the integers `0`, `1`, and `2` to represent the color red, white, and blue, respectively.\n",
    "\n",
    "You must solve this problem without using the library's sort function.\n",
    "\n",
    "**Example 1:**\n",
    "\n",
    "Input: `nums = [2,0,2,1,1,0]`\n",
    "\n",
    "Output: `[0,0,1,1,2,2]`\n",
    "\n",
    "**Example 2:**\n",
    "\n",
    "Input: nums = `[2,0,1]`\n",
    "\n",
    "Output: `[0,1,2]`"
   ]
  },
  {
   "cell_type": "code",
   "execution_count": null,
   "metadata": {},
   "outputs": [],
   "source": [
    "def sortColors(self, nums: list[int]) -> None:\n",
    "    pass"
   ]
  }
 ],
 "metadata": {
  "kernelspec": {
   "display_name": "base",
   "language": "python",
   "name": "python3"
  },
  "language_info": {
   "codemirror_mode": {
    "name": "ipython",
    "version": 3
   },
   "file_extension": ".py",
   "mimetype": "text/x-python",
   "name": "python",
   "nbconvert_exporter": "python",
   "pygments_lexer": "ipython3",
   "version": "3.12.2"
  }
 },
 "nbformat": 4,
 "nbformat_minor": 2
}
